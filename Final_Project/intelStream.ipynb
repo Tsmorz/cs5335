{
 "cells": [
  {
   "cell_type": "markdown",
   "metadata": {},
   "source": [
    "# Accessing camera readings for processing"
   ]
  },
  {
   "cell_type": "markdown",
   "metadata": {},
   "source": [
    "1) Load Intel Realsense camera stream"
   ]
  },
  {
   "cell_type": "code",
   "execution_count": 2,
   "metadata": {},
   "outputs": [
    {
     "ename": "RuntimeError",
     "evalue": "Couldn't resolve requests",
     "output_type": "error",
     "traceback": [
      "\u001b[0;31m---------------------------------------------------------------------------\u001b[0m",
      "\u001b[0;31mRuntimeError\u001b[0m                              Traceback (most recent call last)",
      "\u001b[1;32m/home/tony/Documents/Education/Northeastern/Spring 2022/Science and Systems/cs5335/Final_Project/intelStream.ipynb Cell 3'\u001b[0m in \u001b[0;36m<module>\u001b[0;34m\u001b[0m\n\u001b[1;32m     <a href='vscode-notebook-cell:/home/tony/Documents/Education/Northeastern/Spring%202022/Science%20and%20Systems/cs5335/Final_Project/intelStream.ipynb#ch0000002?line=25'>26</a>\u001b[0m config\u001b[39m.\u001b[39menable_stream(rs\u001b[39m.\u001b[39mstream\u001b[39m.\u001b[39mcolor, \u001b[39m1280\u001b[39m, \u001b[39m800\u001b[39m, rs\u001b[39m.\u001b[39mformat\u001b[39m.\u001b[39mbgr8, \u001b[39m30\u001b[39m)\n\u001b[1;32m     <a href='vscode-notebook-cell:/home/tony/Documents/Education/Northeastern/Spring%202022/Science%20and%20Systems/cs5335/Final_Project/intelStream.ipynb#ch0000002?line=27'>28</a>\u001b[0m \u001b[39m# Start streaming\u001b[39;00m\n\u001b[0;32m---> <a href='vscode-notebook-cell:/home/tony/Documents/Education/Northeastern/Spring%202022/Science%20and%20Systems/cs5335/Final_Project/intelStream.ipynb#ch0000002?line=28'>29</a>\u001b[0m pipeline\u001b[39m.\u001b[39;49mstart(config)\n\u001b[1;32m     <a href='vscode-notebook-cell:/home/tony/Documents/Education/Northeastern/Spring%202022/Science%20and%20Systems/cs5335/Final_Project/intelStream.ipynb#ch0000002?line=30'>31</a>\u001b[0m \u001b[39mtry\u001b[39;00m:\n\u001b[1;32m     <a href='vscode-notebook-cell:/home/tony/Documents/Education/Northeastern/Spring%202022/Science%20and%20Systems/cs5335/Final_Project/intelStream.ipynb#ch0000002?line=31'>32</a>\u001b[0m     \u001b[39mfor\u001b[39;00m i \u001b[39min\u001b[39;00m np\u001b[39m.\u001b[39marange(\u001b[39m1\u001b[39m,\u001b[39m10\u001b[39m):\n\u001b[1;32m     <a href='vscode-notebook-cell:/home/tony/Documents/Education/Northeastern/Spring%202022/Science%20and%20Systems/cs5335/Final_Project/intelStream.ipynb#ch0000002?line=32'>33</a>\u001b[0m \n\u001b[1;32m     <a href='vscode-notebook-cell:/home/tony/Documents/Education/Northeastern/Spring%202022/Science%20and%20Systems/cs5335/Final_Project/intelStream.ipynb#ch0000002?line=33'>34</a>\u001b[0m         \u001b[39m# Wait for a coherent pair of frames: depth and color\u001b[39;00m\n",
      "\u001b[0;31mRuntimeError\u001b[0m: Couldn't resolve requests"
     ]
    }
   ],
   "source": [
    "import pyrealsense2 as rs\n",
    "import numpy as np\n",
    "import cv2\n",
    "from matplotlib import pyplot as plt\n",
    "\n",
    "# Configure depth and color streams\n",
    "pipeline = rs.pipeline()\n",
    "config = rs.config()\n",
    "\n",
    "# Get device product line for setting a supporting resolution\n",
    "pipeline_wrapper = rs.pipeline_wrapper(pipeline)\n",
    "pipeline_profile = config.resolve(pipeline_wrapper)\n",
    "device = pipeline_profile.get_device()\n",
    "device_product_line = str(device.get_info(rs.camera_info.product_line))\n",
    "\n",
    "found_rgb = False\n",
    "for s in device.sensors:\n",
    "    if s.get_info(rs.camera_info.name) == 'RGB Camera':\n",
    "        found_rgb = True\n",
    "        break\n",
    "if not found_rgb:\n",
    "    print(\"The demo requires Depth camera with Color sensor\")\n",
    "    exit(0)\n",
    "\n",
    "config.enable_stream(rs.stream.depth, 1280, 720, rs.format.z16, 30)\n",
    "config.enable_stream(rs.stream.color, 1280, 800, rs.format.bgr8, 30)\n",
    "\n",
    "# Start streaming\n",
    "pipeline.start(config)\n",
    "\n",
    "try:\n",
    "    for i in np.arange(1,10):\n",
    "\n",
    "        # Wait for a coherent pair of frames: depth and color\n",
    "        frames = pipeline.wait_for_frames()\n",
    "        depth_frame = frames.get_depth_frame()\n",
    "        color_frame = frames.get_color_frame()\n",
    "        if not depth_frame or not color_frame:\n",
    "            continue\n",
    "\n",
    "        # Convert images to numpy arrays\n",
    "        depth_image = np.asanyarray(depth_frame.get_data())\n",
    "        color_image = np.asanyarray(color_frame.get_data())\n",
    "\n",
    "        # Apply colormap on depth image (image must be converted to 8-bit per pixel first)\n",
    "        depth_colormap = cv2.applyColorMap(cv2.convertScaleAbs(depth_image, alpha=0.03), cv2.COLORMAP_JET)\n",
    "\n",
    "        depth_colormap_dim = depth_colormap.shape\n",
    "        color_colormap_dim = color_image.shape\n",
    "\n",
    "        # If depth and color resolutions are different, resize color image to match depth image for display\n",
    "        if depth_colormap_dim != color_colormap_dim:\n",
    "            resized_color_image = cv2.resize(color_image, dsize=(depth_colormap_dim[1], depth_colormap_dim[0]), interpolation=cv2.INTER_AREA)\n",
    "            images = np.hstack((resized_color_image, depth_colormap))\n",
    "        else:\n",
    "            images = np.hstack((color_image, depth_colormap))\n",
    "\n",
    "        # Show images\n",
    "        cv2.namedWindow('RealSense', cv2.WINDOW_AUTOSIZE)\n",
    "        cv2.imshow('RealSense', images)\n",
    "        cv2.waitKey(1)\n",
    "\n",
    "finally:\n",
    "\n",
    "    # Stop streaming\n",
    "    pipeline.stop()"
   ]
  },
  {
   "cell_type": "code",
   "execution_count": null,
   "metadata": {},
   "outputs": [],
   "source": [
    "#img = plt.imread('woodblocks.jpg')\n",
    "img = color_image"
   ]
  },
  {
   "cell_type": "markdown",
   "metadata": {},
   "source": [
    "Edit Images"
   ]
  },
  {
   "cell_type": "code",
   "execution_count": null,
   "metadata": {},
   "outputs": [],
   "source": [
    "#img = color_image\n",
    "hsv = cv2.cvtColor(img, cv2.COLOR_BGR2HSV)\n",
    "print(np.shape(hsv))\n",
    "plt.imshow(hsv, cmap='plasma')\n",
    "plt.show()\n",
    "plt.imshow(hsv[0:1000,100:2800,0], vmin = 0, vmax = 255, cmap='plasma')\n",
    "plt.show()\n",
    "plt.imshow(hsv[0:1000,100:2800,1], vmin = 0, vmax = 255, cmap='plasma')\n",
    "plt.show()\n",
    "plt.imshow(hsv[0:1000,100:2800,2], vmin = 0, vmax = 255, cmap='plasma')\n",
    "plt.show()\n",
    "\n",
    "s = np.shape(img)\n",
    "print(s)"
   ]
  },
  {
   "cell_type": "code",
   "execution_count": null,
   "metadata": {},
   "outputs": [],
   "source": [
    "H = hsv[0:1000:10,100:2800:10,0]\n",
    "S = hsv[0:1000:10,100:2800:10,1]\n",
    "V = hsv[0:1000:10,100:2800:10,2]\n",
    "\n",
    "plt.hist(H, bins = 5)\n",
    "plt.show()"
   ]
  },
  {
   "cell_type": "code",
   "execution_count": null,
   "metadata": {},
   "outputs": [],
   "source": [
    "plt.imshow(depth_colormap)\n",
    "plt.show()"
   ]
  }
 ],
 "metadata": {
  "interpreter": {
   "hash": "916dbcbb3f70747c44a77c7bcd40155683ae19c65e1c03b4aa3499c5328201f1"
  },
  "kernelspec": {
   "display_name": "Python 3.8.10 64-bit",
   "language": "python",
   "name": "python3"
  },
  "language_info": {
   "codemirror_mode": {
    "name": "ipython",
    "version": 3
   },
   "file_extension": ".py",
   "mimetype": "text/x-python",
   "name": "python",
   "nbconvert_exporter": "python",
   "pygments_lexer": "ipython3",
   "version": "3.8.10"
  },
  "orig_nbformat": 4
 },
 "nbformat": 4,
 "nbformat_minor": 2
}
