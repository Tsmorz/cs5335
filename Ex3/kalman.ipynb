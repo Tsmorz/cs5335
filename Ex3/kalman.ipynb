{
 "cells": [
  {
   "cell_type": "markdown",
   "metadata": {},
   "source": [
    "ex3 functions for problems 1(a)-(e)"
   ]
  },
  {
   "cell_type": "code",
   "execution_count": 260,
   "metadata": {},
   "outputs": [],
   "source": [
    "import numpy as np"
   ]
  },
  {
   "cell_type": "code",
   "execution_count": 261,
   "metadata": {},
   "outputs": [],
   "source": [
    "def kalman_1d(belief, sigma_v, sigma_w, u, z):\n",
    "    x = belief[0]\n",
    "    var = belief[1]\n",
    "\n",
    "    # prediction\n",
    "    x_pred = x + u\n",
    "    var_pred = var + sigma_v\n",
    "\n",
    "    # innovation\n",
    "    nu = z - x_pred\n",
    "    k = var_pred/(var_pred+sigma_w)\n",
    "\n",
    "    # update\n",
    "    x_new = x_pred + k*nu\n",
    "    var_new = (1 - k) * var_pred\n",
    "\n",
    "    posterior = [x_new, var_new]\n",
    "    print(np.around(posterior,5))\n",
    "    print()\n",
    "\n",
    "    return posterior\n"
   ]
  },
  {
   "cell_type": "code",
   "execution_count": 262,
   "metadata": {},
   "outputs": [
    {
     "name": "stdout",
     "output_type": "stream",
     "text": [
      "[-0.6981  0.0099]\n",
      "\n",
      "[0.58362 0.00833]\n",
      "\n",
      "[0.93862 0.00829]\n",
      "\n"
     ]
    }
   ],
   "source": [
    "sigma_v = 0.04\n",
    "sigma_w = 0.01\n",
    "U = [-0.5, 1.2, 0.3]\n",
    "Z = [-0.7, 0.6, 0.95]\n",
    "belief = [0, 1]\n",
    "\n",
    "for i in range(3):\n",
    "    belief = kalman_1d(belief, sigma_v, sigma_w, U[i], Z[i])\n"
   ]
  },
  {
   "cell_type": "code",
   "execution_count": 263,
   "metadata": {},
   "outputs": [],
   "source": [
    "def kalman_nd(belief, Sigma_v, Sigma_w, u, z):\n",
    "    [r,c] = np.shape(belief)\n",
    "    x = np.array(belief[:,0])\n",
    "    var = belief[:,1:]\n",
    "\n",
    "    # prediction\n",
    "    x_pred = x + u\n",
    "    var_pred = var + Sigma_v\n",
    "\n",
    "    # innovation\n",
    "    nu = z - x_pred\n",
    "    K = var_pred*np.linalg.inv(var_pred+Sigma_w)\n",
    "\n",
    "    # update\n",
    "    x_new = x_pred + np.matmul(K,nu)\n",
    "    var_new = np.matmul((np.identity(r) - K), var_pred)\n",
    "\n",
    "    posterior = np.vstack((x_new, var_new))\n",
    "    print(np.around(posterior.T,5))\n",
    "    print()\n",
    "\n",
    "    return posterior.T"
   ]
  },
  {
   "cell_type": "code",
   "execution_count": 264,
   "metadata": {},
   "outputs": [
    {
     "name": "stdout",
     "output_type": "stream",
     "text": [
      "[[-0.6981   0.0099   0.     ]\n",
      " [ 0.3      0.       0.01964]]\n",
      "\n",
      "[[ 0.58362  0.00833  0.     ]\n",
      " [-0.04628  0.       0.01691]]\n",
      "\n",
      "[[0.93862 0.00829 0.     ]\n",
      " [0.16634 0.      0.01685]]\n",
      "\n"
     ]
    }
   ],
   "source": [
    "sigma_v = np.array([[0.04, 0],\n",
    "                    [0, 0.09]])\n",
    "\n",
    "sigma_w = np.array([[0.01, 0],\n",
    "                    [0, 0.02]])\n",
    "\n",
    "U = np.array([[-0.5, 1.2, 0.3],\n",
    "              [0.3, -0.6, 0.3]])\n",
    "\n",
    "Z = np.array([[-0.7, 0.6, 0.95],\n",
    "              [0.3, 0.0, 0.15]])\n",
    "\n",
    "belief = np.array([[0, 1, 0],\n",
    "                   [0, 0, 1]])\n",
    "\n",
    "for i in range(3):\n",
    "    belief = kalman_nd(belief, sigma_v, sigma_w, U[:,i], Z[:,i])\n"
   ]
  },
  {
   "cell_type": "code",
   "execution_count": 265,
   "metadata": {},
   "outputs": [],
   "source": [
    "def kalman_1dmotion(belief, Sigma_v, Sigma_w, u, z):\n",
    "    [r,c] = np.shape(belief)\n",
    "    x = np.array(belief[:,0])\n",
    "    var = belief[:,1:]\n",
    "\n",
    "    # prediction\n",
    "    x_pred = x + u\n",
    "    var_pred = var + Sigma_v\n",
    "\n",
    "    # innovation\n",
    "    nu = z - x_pred\n",
    "    K = var_pred*np.linalg.inv(var_pred+Sigma_w)\n",
    "\n",
    "    # update\n",
    "    x_new = x_pred + np.matmul(K,nu)\n",
    "    var_new = np.matmul((np.identity(r) - K), var_pred)\n",
    "\n",
    "    posterior = np.vstack((x_new, var_new))\n",
    "    print(np.around(posterior.T,5))\n",
    "    print()\n",
    "\n",
    "    return posterior.T"
   ]
  },
  {
   "cell_type": "code",
   "execution_count": 266,
   "metadata": {},
   "outputs": [
    {
     "name": "stdout",
     "output_type": "stream",
     "text": [
      "[[-0.6981   0.0099   0.     ]\n",
      " [ 0.3      0.       0.01964]]\n",
      "\n",
      "[[ 0.58362  0.00833  0.     ]\n",
      " [-0.04628  0.       0.01691]]\n",
      "\n",
      "[[0.93862 0.00829 0.     ]\n",
      " [0.16634 0.      0.01685]]\n",
      "\n"
     ]
    }
   ],
   "source": [
    "sigma_v = np.array([0.03, 0.02])\n",
    "\n",
    "sigma_w = 0.01\n",
    "\n",
    "U = np.array([-0.2, 0.0, 0.1])\n",
    "\n",
    "Z = np.array([0.4, 0.9, 0.8])\n",
    "\n",
    "belief = np.array([[0, 1, 0],\n",
    "                   [0.5, 0, 2]])\n",
    "\n",
    "for i in range(3):\n",
    "    belief = kalman_1dmotion(belief, sigma_v, sigma_w, U[:,i], Z[:,i])\n"
   ]
  }
 ],
 "metadata": {
  "interpreter": {
   "hash": "916dbcbb3f70747c44a77c7bcd40155683ae19c65e1c03b4aa3499c5328201f1"
  },
  "kernelspec": {
   "display_name": "Python 3.8.10 64-bit",
   "language": "python",
   "name": "python3"
  },
  "language_info": {
   "codemirror_mode": {
    "name": "ipython",
    "version": 3
   },
   "file_extension": ".py",
   "mimetype": "text/x-python",
   "name": "python",
   "nbconvert_exporter": "python",
   "pygments_lexer": "ipython3",
   "version": "3.8.10"
  },
  "orig_nbformat": 4
 },
 "nbformat": 4,
 "nbformat_minor": 2
}
